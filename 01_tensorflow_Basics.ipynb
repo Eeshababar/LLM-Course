{
  "nbformat": 4,
  "nbformat_minor": 0,
  "metadata": {
    "colab": {
      "provenance": [],
      "toc_visible": true
    },
    "kernelspec": {
      "name": "python3",
      "display_name": "Python 3"
    },
    "language_info": {
      "name": "python"
    }
  },
  "cells": [
    {
      "cell_type": "markdown",
      "source": [
        "### Install TensorFlow in Colab\n",
        "The command below installs **TensorFlow**, an open-source deep learning framework for building and training machine learning models.\n",
        "\n",
        "Run the following in a code cell:\n",
        "```python\n",
        "!pip install tensorflow\n"
      ],
      "metadata": {
        "id": "7229quAzzlHe"
      }
    },
    {
      "cell_type": "code",
      "source": [
        "# prompt: install tensor flow\n",
        "\n",
        "!pip install tensorflow"
      ],
      "metadata": {
        "colab": {
          "base_uri": "https://localhost:8080/"
        },
        "id": "056ArI8VLd6C",
        "outputId": "65fe413f-c9fb-4ebe-de98-fdf1b7cc4f75"
      },
      "execution_count": null,
      "outputs": [
        {
          "output_type": "stream",
          "name": "stdout",
          "text": [
            "\u001b[33mWARNING: Ignoring invalid distribution ~vidia-cublas-cu12 (/usr/local/lib/python3.11/dist-packages)\u001b[0m\u001b[33m\n",
            "\u001b[0m\u001b[33mWARNING: Ignoring invalid distribution ~vidia-cublas-cu12 (/usr/local/lib/python3.11/dist-packages)\u001b[0m\u001b[33m\n",
            "\u001b[0mRequirement already satisfied: tensorflow in /usr/local/lib/python3.11/dist-packages (2.19.0)\n",
            "Requirement already satisfied: absl-py>=1.0.0 in /usr/local/lib/python3.11/dist-packages (from tensorflow) (1.4.0)\n",
            "Requirement already satisfied: astunparse>=1.6.0 in /usr/local/lib/python3.11/dist-packages (from tensorflow) (1.6.3)\n",
            "Requirement already satisfied: flatbuffers>=24.3.25 in /usr/local/lib/python3.11/dist-packages (from tensorflow) (25.2.10)\n",
            "Requirement already satisfied: gast!=0.5.0,!=0.5.1,!=0.5.2,>=0.2.1 in /usr/local/lib/python3.11/dist-packages (from tensorflow) (0.6.0)\n",
            "Requirement already satisfied: google-pasta>=0.1.1 in /usr/local/lib/python3.11/dist-packages (from tensorflow) (0.2.0)\n",
            "Requirement already satisfied: libclang>=13.0.0 in /usr/local/lib/python3.11/dist-packages (from tensorflow) (18.1.1)\n",
            "Requirement already satisfied: opt-einsum>=2.3.2 in /usr/local/lib/python3.11/dist-packages (from tensorflow) (3.4.0)\n",
            "Requirement already satisfied: packaging in /usr/local/lib/python3.11/dist-packages (from tensorflow) (25.0)\n",
            "Requirement already satisfied: protobuf!=4.21.0,!=4.21.1,!=4.21.2,!=4.21.3,!=4.21.4,!=4.21.5,<6.0.0dev,>=3.20.3 in /usr/local/lib/python3.11/dist-packages (from tensorflow) (5.29.5)\n",
            "Requirement already satisfied: requests<3,>=2.21.0 in /usr/local/lib/python3.11/dist-packages (from tensorflow) (2.32.3)\n",
            "Requirement already satisfied: setuptools in /usr/local/lib/python3.11/dist-packages (from tensorflow) (75.2.0)\n",
            "Requirement already satisfied: six>=1.12.0 in /usr/local/lib/python3.11/dist-packages (from tensorflow) (1.17.0)\n",
            "Requirement already satisfied: termcolor>=1.1.0 in /usr/local/lib/python3.11/dist-packages (from tensorflow) (3.1.0)\n",
            "Requirement already satisfied: typing-extensions>=3.6.6 in /usr/local/lib/python3.11/dist-packages (from tensorflow) (4.14.1)\n",
            "Requirement already satisfied: wrapt>=1.11.0 in /usr/local/lib/python3.11/dist-packages (from tensorflow) (1.17.2)\n",
            "Requirement already satisfied: grpcio<2.0,>=1.24.3 in /usr/local/lib/python3.11/dist-packages (from tensorflow) (1.74.0)\n",
            "Requirement already satisfied: tensorboard~=2.19.0 in /usr/local/lib/python3.11/dist-packages (from tensorflow) (2.19.0)\n",
            "Requirement already satisfied: keras>=3.5.0 in /usr/local/lib/python3.11/dist-packages (from tensorflow) (3.10.0)\n",
            "Requirement already satisfied: numpy<2.2.0,>=1.26.0 in /usr/local/lib/python3.11/dist-packages (from tensorflow) (2.0.2)\n",
            "Requirement already satisfied: h5py>=3.11.0 in /usr/local/lib/python3.11/dist-packages (from tensorflow) (3.14.0)\n",
            "Requirement already satisfied: ml-dtypes<1.0.0,>=0.5.1 in /usr/local/lib/python3.11/dist-packages (from tensorflow) (0.5.3)\n",
            "Requirement already satisfied: tensorflow-io-gcs-filesystem>=0.23.1 in /usr/local/lib/python3.11/dist-packages (from tensorflow) (0.37.1)\n",
            "Requirement already satisfied: wheel<1.0,>=0.23.0 in /usr/local/lib/python3.11/dist-packages (from astunparse>=1.6.0->tensorflow) (0.45.1)\n",
            "Requirement already satisfied: rich in /usr/local/lib/python3.11/dist-packages (from keras>=3.5.0->tensorflow) (13.9.4)\n",
            "Requirement already satisfied: namex in /usr/local/lib/python3.11/dist-packages (from keras>=3.5.0->tensorflow) (0.1.0)\n",
            "Requirement already satisfied: optree in /usr/local/lib/python3.11/dist-packages (from keras>=3.5.0->tensorflow) (0.17.0)\n",
            "Requirement already satisfied: charset-normalizer<4,>=2 in /usr/local/lib/python3.11/dist-packages (from requests<3,>=2.21.0->tensorflow) (3.4.2)\n",
            "Requirement already satisfied: idna<4,>=2.5 in /usr/local/lib/python3.11/dist-packages (from requests<3,>=2.21.0->tensorflow) (3.10)\n",
            "Requirement already satisfied: urllib3<3,>=1.21.1 in /usr/local/lib/python3.11/dist-packages (from requests<3,>=2.21.0->tensorflow) (2.5.0)\n",
            "Requirement already satisfied: certifi>=2017.4.17 in /usr/local/lib/python3.11/dist-packages (from requests<3,>=2.21.0->tensorflow) (2025.8.3)\n",
            "Requirement already satisfied: markdown>=2.6.8 in /usr/local/lib/python3.11/dist-packages (from tensorboard~=2.19.0->tensorflow) (3.8.2)\n",
            "Requirement already satisfied: tensorboard-data-server<0.8.0,>=0.7.0 in /usr/local/lib/python3.11/dist-packages (from tensorboard~=2.19.0->tensorflow) (0.7.2)\n",
            "Requirement already satisfied: werkzeug>=1.0.1 in /usr/local/lib/python3.11/dist-packages (from tensorboard~=2.19.0->tensorflow) (3.1.3)\n",
            "Requirement already satisfied: MarkupSafe>=2.1.1 in /usr/local/lib/python3.11/dist-packages (from werkzeug>=1.0.1->tensorboard~=2.19.0->tensorflow) (3.0.2)\n",
            "Requirement already satisfied: markdown-it-py>=2.2.0 in /usr/local/lib/python3.11/dist-packages (from rich->keras>=3.5.0->tensorflow) (3.0.0)\n",
            "Requirement already satisfied: pygments<3.0.0,>=2.13.0 in /usr/local/lib/python3.11/dist-packages (from rich->keras>=3.5.0->tensorflow) (2.19.2)\n",
            "Requirement already satisfied: mdurl~=0.1 in /usr/local/lib/python3.11/dist-packages (from markdown-it-py>=2.2.0->rich->keras>=3.5.0->tensorflow) (0.1.2)\n",
            "\u001b[33mWARNING: Ignoring invalid distribution ~vidia-cublas-cu12 (/usr/local/lib/python3.11/dist-packages)\u001b[0m\u001b[33m\n",
            "\u001b[0m"
          ]
        }
      ]
    },
    {
      "cell_type": "markdown",
      "source": [
        "### Creating a PyTorch Tensor from Python Data\n",
        "\n",
        "In PyTorch, a **tensor** is a multi-dimensional array similar to NumPy arrays, but optimized for GPU acceleration.\n",
        "\n",
        "The following example converts a Python list of lists into a 2×2 PyTorch tensor:\n",
        "\n",
        "```python\n",
        "import torch\n",
        "\n",
        "data = [[1, 2], [3, 4]]        # 2D Python list\n",
        "tensors = torch.tensor(data)   # Create a tensor from the list\n",
        "print(tensors)\n"
      ],
      "metadata": {
        "id": "GwhLWLrVzyVK"
      }
    },
    {
      "cell_type": "code",
      "source": [
        "import torch"
      ],
      "metadata": {
        "id": "S2ncQ-VyLVeC"
      },
      "execution_count": null,
      "outputs": []
    },
    {
      "cell_type": "code",
      "source": [
        "\n",
        "data = [[1,2], [3,4]]\n",
        "tensors = torch.tensor(data)"
      ],
      "metadata": {
        "id": "wCbj2AjIKwQ7"
      },
      "execution_count": null,
      "outputs": []
    },
    {
      "cell_type": "code",
      "source": [
        "print(tensors[0])"
      ],
      "metadata": {
        "id": "5kyEDxoGK_1V"
      },
      "execution_count": null,
      "outputs": []
    },
    {
      "cell_type": "markdown",
      "source": [
        "### Converting a NumPy Array to a PyTorch Tensor\n",
        "\n",
        "PyTorch can directly convert **NumPy arrays** into tensors using `torch.from_numpy()`.\n",
        "\n",
        "Example:\n",
        "```python\n",
        "import numpy as np\n",
        "import torch\n",
        "\n",
        "# Create a NumPy array with values 0 to 10\n",
        "array = np.arange(11)\n",
        "print(\"NumPy array:\", array)\n",
        "\n",
        "# Convert NumPy array to a PyTorch tensor (shares memory)\n",
        "tensor_array = torch.from_numpy(array)\n",
        "print(\"PyTorch tensor:\", tensor_array)\n"
      ],
      "metadata": {
        "id": "poHC33Ktz3YO"
      }
    },
    {
      "cell_type": "code",
      "source": [
        "import numpy as np\n",
        "array = np.arange(11)\n",
        "print(array)\n",
        "tensor_array = torch.from_numpy(array)\n",
        "print(tensor_array)"
      ],
      "metadata": {
        "id": "KLkG9HokLo1Y"
      },
      "execution_count": null,
      "outputs": []
    },
    {
      "cell_type": "markdown",
      "source": [
        "### Checking the Shape of a PyTorch Tensor\n",
        "\n",
        "You can check the **dimensions** of a tensor using `.shape`.\n",
        "\n",
        "Example:\n",
        "```python\n",
        "import numpy as np\n",
        "import torch\n",
        "\n",
        "array = np.arange(11)             # NumPy array with values 0 to 10\n",
        "tensor_array = torch.from_numpy(array)\n",
        "\n",
        "print(\"Tensor:\", tensor_array)\n",
        "print(\"Shape:\", tensor_array.shape)\n"
      ],
      "metadata": {
        "id": "vDiW6yW7z9wT"
      }
    },
    {
      "cell_type": "code",
      "source": [
        "tensor_array.shape"
      ],
      "metadata": {
        "id": "JlivdfHKL2M1"
      },
      "execution_count": null,
      "outputs": []
    },
    {
      "cell_type": "markdown",
      "source": [
        "### Checking the Number of Dimensions of a PyTorch Tensor\n",
        "\n",
        "The `.ndim` attribute tells you how many **dimensions (axes)** a tensor has.\n",
        "\n",
        "Example:\n",
        "```python\n",
        "import numpy as np\n",
        "import torch\n",
        "\n",
        "array = np.arange(11)             # NumPy array with values 0 to 10\n",
        "tensor_array = torch.from_numpy(array)\n",
        "\n",
        "print(\"Tensor:\", tensor_array)\n",
        "print(\"Number of dimensions:\", tensor_array.ndim)\n"
      ],
      "metadata": {
        "id": "1MzB2cRG0AF4"
      }
    },
    {
      "cell_type": "code",
      "source": [
        "tensor_array.ndim"
      ],
      "metadata": {
        "id": "wwVqkiWfMVIP"
      },
      "execution_count": null,
      "outputs": []
    },
    {
      "cell_type": "code",
      "source": [
        "tensor_array.dtype"
      ],
      "metadata": {
        "id": "tD1_Y74pMZu5"
      },
      "execution_count": null,
      "outputs": []
    },
    {
      "cell_type": "markdown",
      "source": [
        "### Element-wise Addition of PyTorch Tensors\n",
        "\n",
        "PyTorch supports element-wise arithmetic operations between tensors of the same shape.\n",
        "\n",
        "Example:\n",
        "```python\n",
        "import torch\n",
        "\n",
        "ten1 = torch.tensor([1, 2, 3])\n",
        "ten2 = torch.tensor([4, 5, 6])\n",
        "\n",
        "result = ten1 + ten2\n",
        "print(result)\n"
      ],
      "metadata": {
        "id": "0K8JnR0K0LNe"
      }
    },
    {
      "cell_type": "code",
      "source": [
        "ten1 = torch.tensor([1,2,3])\n",
        "ten2 = torch.tensor([4,5,6])\n",
        "ten1+ten2"
      ],
      "metadata": {
        "id": "UC7fyr9SMhjd"
      },
      "execution_count": null,
      "outputs": []
    },
    {
      "cell_type": "code",
      "source": [
        "torch.add(ten1, ten2)"
      ],
      "metadata": {
        "id": "My9-iIB7MuEx"
      },
      "execution_count": null,
      "outputs": []
    },
    {
      "cell_type": "code",
      "source": [
        "torch.sub(ten1,ten2)"
      ],
      "metadata": {
        "id": "dOyWKrYzMzKq"
      },
      "execution_count": null,
      "outputs": []
    },
    {
      "cell_type": "code",
      "source": [
        "torch.subtract(ten2,ten1)"
      ],
      "metadata": {
        "id": "RNOxjtnpM21s"
      },
      "execution_count": null,
      "outputs": []
    },
    {
      "cell_type": "code",
      "source": [
        "ten1*10"
      ],
      "metadata": {
        "id": "1R4yo7I4M9dh"
      },
      "execution_count": null,
      "outputs": []
    },
    {
      "cell_type": "markdown",
      "source": [
        "### Matrix Multiplication with `torch.matmul`\n",
        "\n",
        "The function `torch.matmul()` performs **matrix multiplication** (or dot product for 1D tensors).\n",
        "\n",
        "Example:\n",
        "```python\n",
        "import torch\n",
        "\n",
        "ten1 = torch.tensor([1, 2, 3])\n",
        "ten2 = torch.tensor([4, 5, 6])\n",
        "\n",
        "result = torch.matmul(ten1, ten2)\n",
        "print(result)\n"
      ],
      "metadata": {
        "id": "kCu0rMAG0RbR"
      }
    },
    {
      "cell_type": "code",
      "source": [
        "torch.matmul(ten1, ten2)"
      ],
      "metadata": {
        "id": "noIMH1buNCka"
      },
      "execution_count": null,
      "outputs": []
    },
    {
      "cell_type": "code",
      "source": [
        "matrix = torch.tensor([[1,2,3], [4,5,6], [7,8,9], [10,11,12]])"
      ],
      "metadata": {
        "id": "Ifv1Wc90NLun"
      },
      "execution_count": null,
      "outputs": []
    },
    {
      "cell_type": "code",
      "source": [
        "matrix.shape"
      ],
      "metadata": {
        "id": "1Fxzsl_aNHpU"
      },
      "execution_count": null,
      "outputs": []
    },
    {
      "cell_type": "code",
      "source": [
        "matrix3 = torch.tensor([[3,2], [1,2], [4,5]])"
      ],
      "metadata": {
        "id": "Ee-dMreNNaoC"
      },
      "execution_count": null,
      "outputs": []
    },
    {
      "cell_type": "code",
      "source": [
        "matrix3.shape"
      ],
      "metadata": {
        "id": "EUsmP-GJNk0r"
      },
      "execution_count": null,
      "outputs": []
    },
    {
      "cell_type": "code",
      "source": [
        "result = torch.matmul(matrix , matrix3)"
      ],
      "metadata": {
        "id": "XmCg4kjQNp0b"
      },
      "execution_count": null,
      "outputs": []
    },
    {
      "cell_type": "code",
      "source": [
        "result.shape"
      ],
      "metadata": {
        "id": "PLqnTHVXNxTK"
      },
      "execution_count": null,
      "outputs": []
    },
    {
      "cell_type": "markdown",
      "source": [
        "### Transposing a Tensor with `.T`\n",
        "\n",
        "The `.T` attribute gives the **transpose** of a tensor.\n",
        "\n",
        "**However**, in this example:\n",
        "- `result` is a **scalar** (0D tensor) with value `32`.\n",
        "- Scalars have **no axes**, so transposing has no effect.\n",
        "\n",
        "**Example:**\n",
        "```python\n",
        "result = torch.matmul(ten1, ten2)  # scalar tensor\n",
        "print(result)   # tensor(32)\n",
        "print(result.T) # tensor(32) — same, because a scalar's transpose is itself\n"
      ],
      "metadata": {
        "id": "GxSMo-lu0UHj"
      }
    },
    {
      "cell_type": "code",
      "source": [
        "result.T"
      ],
      "metadata": {
        "id": "T0SlCVznN31W"
      },
      "execution_count": null,
      "outputs": []
    },
    {
      "cell_type": "code",
      "source": [
        "torchzeros = torch.zeros((3,4))\n",
        "print(torchzeros)"
      ],
      "metadata": {
        "id": "u0gjmO1HN7bD"
      },
      "execution_count": null,
      "outputs": []
    },
    {
      "cell_type": "code",
      "source": [
        "torchones = torch.ones((3,4))\n",
        "print(torchones)"
      ],
      "metadata": {
        "id": "N3uYdkJ1OD39"
      },
      "execution_count": null,
      "outputs": []
    },
    {
      "cell_type": "code",
      "source": [
        "torchrandn = torch.randn((3,3))\n",
        "print(torchrandn)"
      ],
      "metadata": {
        "id": "uT_KaiO0OO4n"
      },
      "execution_count": null,
      "outputs": []
    },
    {
      "cell_type": "code",
      "source": [
        "customfill = torch.full((3,3),5)\n",
        "print(customfill)"
      ],
      "metadata": {
        "id": "JjSM360xOU9u"
      },
      "execution_count": null,
      "outputs": []
    },
    {
      "cell_type": "code",
      "source": [
        "pip install torchvision --no-deps"
      ],
      "metadata": {
        "id": "mYco3ltDOk9y"
      },
      "execution_count": null,
      "outputs": []
    },
    {
      "cell_type": "markdown",
      "source": [
        "### Importing PyTorch and TorchVision Utilities\n",
        "\n",
        "```python\n",
        "from torch.utils.data import DataLoader\n",
        "from torchvision import datasets\n",
        "from torchvision.transforms import ToTensor\n",
        "from torch import nn\n"
      ],
      "metadata": {
        "id": "JO8wkC0H0bZi"
      }
    },
    {
      "cell_type": "code",
      "source": [
        "from torch.utils.data import DataLoader\n",
        "from torchvision import datasets\n",
        "from torchvision.transforms import ToTensor\n",
        "from torch import nn"
      ],
      "metadata": {
        "id": "UrPV4s7mO1hV"
      },
      "execution_count": null,
      "outputs": []
    },
    {
      "cell_type": "markdown",
      "source": [
        "### Downloading and Loading the FashionMNIST Training Dataset\n",
        "\n",
        "```python\n",
        "from torchvision import datasets\n",
        "from torchvision.transforms import ToTensor\n",
        "\n",
        "# Download training data from open datasets\n",
        "training_data = datasets.FashionMNIST(\n",
        "    root=\"data\",       # Folder to store the dataset\n",
        "    train=True,        # Load the training split\n",
        "    download=True,     # Download if not already present\n",
        "    transform=ToTensor()  # Convert images to PyTorch tensors and scale to [0,1]\n",
        ")\n"
      ],
      "metadata": {
        "id": "QIB5W6Qs0lCQ"
      }
    },
    {
      "cell_type": "code",
      "source": [
        "# Download training data from open datasets.\n",
        "training_data = datasets.FashionMNIST(\n",
        "    root=\"data\",\n",
        "    train=True,\n",
        "    download=True,\n",
        "    transform=ToTensor(),\n",
        ")"
      ],
      "metadata": {
        "id": "akdbVL0RO0JS"
      },
      "execution_count": null,
      "outputs": []
    },
    {
      "cell_type": "markdown",
      "source": [
        "### Downloading and Loading the FashionMNIST Test Dataset\n",
        "\n",
        "```python\n",
        "from torchvision import datasets\n",
        "from torchvision.transforms import ToTensor\n",
        "\n",
        "# Download test data from open datasets\n",
        "test_data = datasets.FashionMNIST(\n",
        "    root=\"data\",        # Folder to store the dataset\n",
        "    train=False,        # Load the test split\n",
        "    download=True,      # Download if not already present\n",
        "    transform=ToTensor() # Convert images to PyTorch tensors and scale to [0,1]\n",
        ")\n"
      ],
      "metadata": {
        "id": "MA76gjIC0q_U"
      }
    },
    {
      "cell_type": "code",
      "source": [
        "# Download test data from open datasets.\n",
        "test_data = datasets.FashionMNIST(\n",
        "    root=\"data\",\n",
        "    train=False,\n",
        "    download=True,\n",
        "    transform=ToTensor(),\n",
        ")"
      ],
      "metadata": {
        "id": "t-MfilQ6PNvk"
      },
      "execution_count": null,
      "outputs": []
    },
    {
      "cell_type": "code",
      "source": [
        "type(training_data)"
      ],
      "metadata": {
        "id": "AXfzPCaQO9j4"
      },
      "execution_count": null,
      "outputs": []
    },
    {
      "cell_type": "code",
      "source": [
        "import matplotlib.pyplot as plt\n",
        "\n",
        "plt.figure(figsize=(12,10))\n",
        "for i in range(9):\n",
        "    plt.subplot(3,3,i+1)\n",
        "    sample_image,sample_label = training_data[i]\n",
        "    plt.imshow(sample_image[0])\n",
        "    plt.title(sample_label)"
      ],
      "metadata": {
        "id": "RkAvMMPZPCoB"
      },
      "execution_count": null,
      "outputs": []
    },
    {
      "cell_type": "markdown",
      "source": [
        "### Creating DataLoaders and Inspecting Batch Shapes\n",
        "\n",
        "```python\n",
        "from torch.utils.data import DataLoader\n",
        "\n",
        "batch_size = 64\n",
        "\n",
        "# Create DataLoaders for batching\n",
        "training = DataLoader(training_data, batch_size=batch_size)\n",
        "testing = DataLoader(test_data, batch_size=batch_size)\n",
        "\n",
        "# Inspect the shape of one test batch\n",
        "for X, y in testing:\n",
        "    print(f\"Shape of X: {X.shape}\")\n",
        "    print(f\"Shape of y: {y.shape}\")\n",
        "    break\n"
      ],
      "metadata": {
        "id": "junevVuO023X"
      }
    },
    {
      "cell_type": "code",
      "source": [
        "batch_size = 64\n",
        "\n",
        "training = DataLoader(training_data,batch_size=batch_size)\n",
        "testing = DataLoader(test_data, batch_size=batch_size)\n",
        "\n",
        "for X, y in testing:\n",
        "    print(f\"Shape of X: {X.shape}\")\n",
        "    print(f\"Shape of y: {y.shape}\")\n",
        "    break"
      ],
      "metadata": {
        "id": "ykjqF0SLPGsZ"
      },
      "execution_count": null,
      "outputs": []
    },
    {
      "cell_type": "code",
      "source": [
        "for X,y in training:\n",
        "    print(torch.max(X))\n",
        "    print(torch.min(X))\n",
        "    break"
      ],
      "metadata": {
        "id": "OdtgSCElPLIy"
      },
      "execution_count": null,
      "outputs": []
    },
    {
      "cell_type": "markdown",
      "source": [
        "### Defining a Fully Connected Neural Network in PyTorch\n",
        "\n",
        "```python\n",
        "import torch\n",
        "from torch import nn\n",
        "\n",
        "class NeuralNetwork(nn.Module):\n",
        "    def __init__(self):\n",
        "        super(NeuralNetwork, self).__init__()\n",
        "        \n",
        "        # Layer to flatten input images from [1, 28, 28] → [784]\n",
        "        self.flatten = nn.Flatten()\n",
        "        \n",
        "        # Sequential block defining the model architecture\n",
        "        self.build_model = nn.Sequential(\n",
        "            nn.Linear(28*28, 512),  # Input layer: 784 → 512 neurons\n",
        "            nn.ReLU(),              # Activation function\n",
        "            \n",
        "            nn.Linear(512, 512),    # Hidden layer: 512 → 512 neurons\n",
        "            nn.ReLU(),              # Activation function\n",
        "            \n",
        "            nn.Linear(512, 10)      # Output layer: 512 → 10 classes\n",
        "        )\n",
        "\n",
        "    def forward(self, x):\n",
        "        x\n"
      ],
      "metadata": {
        "id": "mpRYAnv60668"
      }
    },
    {
      "cell_type": "code",
      "source": [
        "class NeuralNetwork(nn.Module):\n",
        "    def __init__(self):\n",
        "        super(NeuralNetwork,self).__init__()\n",
        "        self.flatten = nn.Flatten()\n",
        "        self.build_model = nn.Sequential(\n",
        "            nn.Linear(28*28,512), #28*28 is input shape\n",
        "            nn.ReLU(),\n",
        "            nn.Linear(512,512), #hidden layer\n",
        "            nn.ReLU(),\n",
        "            nn.Linear(512,10) #output layer\n",
        "        )\n",
        "    def forward(self,x):\n",
        "        x = self.flatten(x)\n",
        "        dnn = self.build_model(x)\n",
        "        return dnn"
      ],
      "metadata": {
        "id": "0HiUXloNPcaS"
      },
      "execution_count": null,
      "outputs": []
    },
    {
      "cell_type": "code",
      "source": [
        "model = NeuralNetwork()"
      ],
      "metadata": {
        "id": "TOM4nnJjPjHr"
      },
      "execution_count": null,
      "outputs": []
    },
    {
      "cell_type": "code",
      "source": [
        "# compile model - Loss Function and Optimizer\n",
        "loss_fn = nn.CrossEntropyLoss()\n",
        "optimizer = torch.optim.Adam(model.parameters(), lr=1e-5)"
      ],
      "metadata": {
        "id": "jSlOfDr_Plf0"
      },
      "execution_count": null,
      "outputs": []
    },
    {
      "cell_type": "code",
      "source": [
        "def train(dataloader, model, loss_fn, optimizer):\n",
        "    size = len(dataloader.dataset)\n",
        "    model.train()\n",
        "    for batch, (X, y) in enumerate(dataloader):\n",
        "        # Compute prediction error\n",
        "        pred = model(X)\n",
        "        loss = loss_fn(pred, y)\n",
        "\n",
        "        # Backpropagation\n",
        "        optimizer.zero_grad()\n",
        "        loss.backward()\n",
        "        optimizer.step()\n",
        "\n",
        "        if batch % 100 == 0:\n",
        "            loss, current = loss.item(), batch * len(X)\n",
        "            print(f\"loss: {loss:>7f}  [{current:>5d}/{size:>5d}]\")"
      ],
      "metadata": {
        "id": "rbBMAGjsPn3S"
      },
      "execution_count": null,
      "outputs": []
    },
    {
      "cell_type": "code",
      "source": [
        "def test(dataloader, model, loss_fn):\n",
        "    size = len(dataloader.dataset)\n",
        "    num_batches = len(dataloader)\n",
        "    model.eval()\n",
        "    test_loss, correct = 0, 0\n",
        "    with torch.no_grad():\n",
        "        for X, y in dataloader:\n",
        "            pred = model(X)\n",
        "            test_loss += loss_fn(pred, y).item()\n",
        "            correct += (pred.argmax(1) == y).type(torch.float).sum().item()\n",
        "    test_loss /= num_batches\n",
        "    correct /= size\n",
        "    print(f\"Test Error: \\n Accuracy: {(100*correct):>0.1f}%, Avg loss: {test_loss:>8f} \\n\")"
      ],
      "metadata": {
        "id": "V4-eS913PqTN"
      },
      "execution_count": null,
      "outputs": []
    },
    {
      "cell_type": "code",
      "source": [
        "for epoch in range(5):\n",
        "    print(f\"Epochs {epoch+1}\")\n",
        "    train(training, model, loss_fn, optimizer)\n",
        "    test(testing, model, loss_fn)"
      ],
      "metadata": {
        "id": "VvnIoLZDPsWP"
      },
      "execution_count": null,
      "outputs": []
    },
    {
      "cell_type": "code",
      "source": [],
      "metadata": {
        "id": "F99uoMrTPusa"
      },
      "execution_count": null,
      "outputs": []
    }
  ]
}